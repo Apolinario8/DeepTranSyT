{
 "cells": [
  {
   "cell_type": "code",
   "execution_count": 1,
   "metadata": {},
   "outputs": [
    {
     "name": "stdout",
     "output_type": "stream",
     "text": [
      "Downloading mapping_family12.json from https://github.com/Apolinario8/deeptransyt/releases/download/v0.0.1/mapping_family12.json...\n",
      "mapping_family12.json downloaded successfully!\n",
      "Downloading DNN_allclasses.ckpt from https://github.com/Apolinario8/deeptransyt/releases/download/v0.0.1/DNN_allclasses.ckpt...\n",
      "DNN_allclasses.ckpt downloaded successfully!\n",
      "Downloading family_DNN_no9_12.ckpt from https://github.com/Apolinario8/deeptransyt/releases/download/v0.0.1/family_DNN_no9_12.ckpt...\n",
      "family_DNN_no9_12.ckpt downloaded successfully!\n",
      "Downloading family_descriptions.json from https://github.com/Apolinario8/deeptransyt/releases/download/v0.0.1/family_descriptions.json...\n",
      "family_descriptions.json downloaded successfully!\n",
      "Downloading mapping_susbtrate_classes.json from https://github.com/Apolinario8/deeptransyt/releases/download/v0.0.1/mapping_susbtrate_classes.json...\n",
      "mapping_susbtrate_classes.json downloaded successfully!\n",
      "Downloading substrate_classes.ckpt from https://github.com/Apolinario8/deeptransyt/releases/download/v0.0.1/substrate_classes.ckpt...\n"
     ]
    },
    {
     "name": "stderr",
     "output_type": "stream",
     "text": [
      "2024-09-19 15:39:34,741 - INFO - Preprocessing sequences and creating embeddings\n"
     ]
    },
    {
     "name": "stdout",
     "output_type": "stream",
     "text": [
      "substrate_classes.ckpt downloaded successfully!\n"
     ]
    },
    {
     "name": "stderr",
     "output_type": "stream",
     "text": [
      "2024-09-19 15:39:49,897 - INFO - Time taken for encodings generation: 7 seconds\n",
      "2024-09-19 15:39:51,092 - INFO - All predictions saved to results\\final_predictions.csv\n"
     ]
    },
    {
     "data": {
      "text/html": [
       "<div>\n",
       "<style scoped>\n",
       "    .dataframe tbody tr th:only-of-type {\n",
       "        vertical-align: middle;\n",
       "    }\n",
       "\n",
       "    .dataframe tbody tr th {\n",
       "        vertical-align: top;\n",
       "    }\n",
       "\n",
       "    .dataframe thead th {\n",
       "        text-align: right;\n",
       "    }\n",
       "</style>\n",
       "<table border=\"1\" class=\"dataframe\">\n",
       "  <thead>\n",
       "    <tr style=\"text-align: right;\">\n",
       "      <th></th>\n",
       "      <th>Accession</th>\n",
       "      <th>Binary_Predictions</th>\n",
       "      <th>PredictedFamily_&gt;12</th>\n",
       "      <th>Class_substrate</th>\n",
       "      <th>Family_Description</th>\n",
       "    </tr>\n",
       "  </thead>\n",
       "  <tbody>\n",
       "  </tbody>\n",
       "</table>\n",
       "</div>"
      ],
      "text/plain": [
       "Empty DataFrame\n",
       "Columns: [Accession, Binary_Predictions, PredictedFamily_>12, Class_substrate, Family_Description]\n",
       "Index: []"
      ]
     },
     "execution_count": 1,
     "metadata": {},
     "output_type": "execute_result"
    }
   ],
   "source": [
    "from src.deeptransyt.main import main as run_deeptransyt\n",
    "\n",
    "run_deeptransyt(input_file=\"genome_test.txt\", output_dir=\"results\")"
   ]
  },
  {
   "cell_type": "code",
   "execution_count": null,
   "metadata": {},
   "outputs": [],
   "source": []
  },
  {
   "cell_type": "code",
   "execution_count": null,
   "metadata": {},
   "outputs": [],
   "source": []
  }
 ],
 "metadata": {
  "kernelspec": {
   "display_name": "Python 3",
   "language": "python",
   "name": "python3"
  },
  "language_info": {
   "codemirror_mode": {
    "name": "ipython",
    "version": 3
   },
   "file_extension": ".py",
   "mimetype": "text/x-python",
   "name": "python",
   "nbconvert_exporter": "python",
   "pygments_lexer": "ipython3",
   "version": "3.10.14"
  }
 },
 "nbformat": 4,
 "nbformat_minor": 2
}
