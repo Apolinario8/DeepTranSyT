{
 "cells": [
  {
   "cell_type": "code",
   "execution_count": 1,
   "metadata": {},
   "outputs": [
    {
     "name": "stderr",
     "output_type": "stream",
     "text": [
      "2024-10-02 17:50:52,936 - INFO - Preprocessing sequences and creating embeddings\n"
     ]
    },
    {
     "name": "stdout",
     "output_type": "stream",
     "text": [
      "mapping_family12.json already exists. Skipping download.\n",
      "DNN_allclasses.ckpt already exists. Skipping download.\n",
      "family_DNN_no9_12.ckpt already exists. Skipping download.\n",
      "family_descriptions.json already exists. Skipping download.\n",
      "mapping_susbtrate_classes.json already exists. Skipping download.\n",
      "substrate_classes.ckpt already exists. Skipping download.\n",
      "family_subfamily_10.ckpt already exists. Skipping download.\n",
      "family_subfamily_mappings.json already exists. Skipping download.\n"
     ]
    },
    {
     "name": "stderr",
     "output_type": "stream",
     "text": [
      "2024-10-02 17:52:13,596 - INFO - Time taken for encodings generation: 72 seconds\n",
      "2024-10-02 17:52:16,001 - INFO - All predictions saved to results\\final_predictions.csv\n"
     ]
    },
    {
     "data": {
      "text/html": [
       "<div>\n",
       "<style scoped>\n",
       "    .dataframe tbody tr th:only-of-type {\n",
       "        vertical-align: middle;\n",
       "    }\n",
       "\n",
       "    .dataframe tbody tr th {\n",
       "        vertical-align: top;\n",
       "    }\n",
       "\n",
       "    .dataframe thead th {\n",
       "        text-align: right;\n",
       "    }\n",
       "</style>\n",
       "<table border=\"1\" class=\"dataframe\">\n",
       "  <thead>\n",
       "    <tr style=\"text-align: right;\">\n",
       "      <th></th>\n",
       "      <th>Accession</th>\n",
       "      <th>Binary_Predictions</th>\n",
       "      <th>PredictedFamily_&gt;12</th>\n",
       "      <th>PredictedFamily</th>\n",
       "      <th>FamilyConfidence</th>\n",
       "      <th>PredictedSubfamily</th>\n",
       "      <th>SubfamilyConfidence</th>\n",
       "      <th>Class_substrate</th>\n",
       "      <th>Family_Description</th>\n",
       "    </tr>\n",
       "  </thead>\n",
       "  <tbody>\n",
       "    <tr>\n",
       "      <th>0</th>\n",
       "      <td>b0010</td>\n",
       "      <td>0.962166</td>\n",
       "      <td>2.A.96</td>\n",
       "      <td>2.A.96</td>\n",
       "      <td>0.998228</td>\n",
       "      <td>2.A.96.1</td>\n",
       "      <td>1.000000</td>\n",
       "      <td>Other</td>\n",
       "      <td>The Acetate Uptake Transporter (AceTr) Family</td>\n",
       "    </tr>\n",
       "    <tr>\n",
       "      <th>1</th>\n",
       "      <td>b2683</td>\n",
       "      <td>0.954708</td>\n",
       "      <td>2.A.7</td>\n",
       "      <td>3.D.1</td>\n",
       "      <td>0.255886</td>\n",
       "      <td>3.D.1.4</td>\n",
       "      <td>0.662882</td>\n",
       "      <td>Electron</td>\n",
       "      <td>The Drug/Metabolite Transporter (DMT) Superfamily</td>\n",
       "    </tr>\n",
       "  </tbody>\n",
       "</table>\n",
       "</div>"
      ],
      "text/plain": [
       "  Accession  Binary_Predictions PredictedFamily_>12 PredictedFamily  \\\n",
       "0     b0010            0.962166              2.A.96          2.A.96   \n",
       "1     b2683            0.954708               2.A.7           3.D.1   \n",
       "\n",
       "   FamilyConfidence PredictedSubfamily  SubfamilyConfidence Class_substrate  \\\n",
       "0          0.998228           2.A.96.1             1.000000           Other   \n",
       "1          0.255886            3.D.1.4             0.662882        Electron   \n",
       "\n",
       "                                  Family_Description  \n",
       "0      The Acetate Uptake Transporter (AceTr) Family  \n",
       "1  The Drug/Metabolite Transporter (DMT) Superfamily  "
      ]
     },
     "execution_count": 1,
     "metadata": {},
     "output_type": "execute_result"
    }
   ],
   "source": [
    "from src.deeptransyt.main import main as run_deeptransyt\n",
    "\n",
    "run_deeptransyt(input_file=\"genome_test.txt\", output_dir=\"results\")"
   ]
  },
  {
   "cell_type": "markdown",
   "metadata": {},
   "source": [
    "If you have the embeddings already generated you can simply run the pipeline by passing the embeddings and the corresponding labels as follows:"
   ]
  },
  {
   "cell_type": "code",
   "execution_count": 1,
   "metadata": {},
   "outputs": [
    {
     "name": "stderr",
     "output_type": "stream",
     "text": [
      "2024-10-02 18:02:34,357 - INFO - Loading existing encodings and labels\n"
     ]
    },
    {
     "name": "stdout",
     "output_type": "stream",
     "text": [
      "mapping_family12.json already exists. Skipping download.\n",
      "DNN_allclasses.ckpt already exists. Skipping download.\n",
      "family_DNN_no9_12.ckpt already exists. Skipping download.\n",
      "family_descriptions.json already exists. Skipping download.\n",
      "mapping_susbtrate_classes.json already exists. Skipping download.\n",
      "substrate_classes.ckpt already exists. Skipping download.\n",
      "family_subfamily_10.ckpt already exists. Skipping download.\n",
      "family_subfamily_mappings.json already exists. Skipping download.\n"
     ]
    },
    {
     "name": "stderr",
     "output_type": "stream",
     "text": [
      "2024-10-02 18:02:34,805 - INFO - All predictions saved to results\\final_predictions.csv\n"
     ]
    },
    {
     "data": {
      "text/html": [
       "<div>\n",
       "<style scoped>\n",
       "    .dataframe tbody tr th:only-of-type {\n",
       "        vertical-align: middle;\n",
       "    }\n",
       "\n",
       "    .dataframe tbody tr th {\n",
       "        vertical-align: top;\n",
       "    }\n",
       "\n",
       "    .dataframe thead th {\n",
       "        text-align: right;\n",
       "    }\n",
       "</style>\n",
       "<table border=\"1\" class=\"dataframe\">\n",
       "  <thead>\n",
       "    <tr style=\"text-align: right;\">\n",
       "      <th></th>\n",
       "      <th>Accession</th>\n",
       "      <th>Binary_Predictions</th>\n",
       "      <th>PredictedFamily_&gt;12</th>\n",
       "      <th>PredictedFamily</th>\n",
       "      <th>FamilyConfidence</th>\n",
       "      <th>PredictedSubfamily</th>\n",
       "      <th>SubfamilyConfidence</th>\n",
       "      <th>Class_substrate</th>\n",
       "      <th>Family_Description</th>\n",
       "    </tr>\n",
       "  </thead>\n",
       "  <tbody>\n",
       "    <tr>\n",
       "      <th>0</th>\n",
       "      <td>b0010</td>\n",
       "      <td>0.962166</td>\n",
       "      <td>2.A.96</td>\n",
       "      <td>2.A.96</td>\n",
       "      <td>0.998228</td>\n",
       "      <td>2.A.96.1</td>\n",
       "      <td>1.000000</td>\n",
       "      <td>Other</td>\n",
       "      <td>The Acetate Uptake Transporter (AceTr) Family</td>\n",
       "    </tr>\n",
       "    <tr>\n",
       "      <th>1</th>\n",
       "      <td>b2683</td>\n",
       "      <td>0.954708</td>\n",
       "      <td>2.A.7</td>\n",
       "      <td>3.D.1</td>\n",
       "      <td>0.255886</td>\n",
       "      <td>3.D.1.4</td>\n",
       "      <td>0.662882</td>\n",
       "      <td>Electron</td>\n",
       "      <td>The Drug/Metabolite Transporter (DMT) Superfamily</td>\n",
       "    </tr>\n",
       "  </tbody>\n",
       "</table>\n",
       "</div>"
      ],
      "text/plain": [
       "  Accession  Binary_Predictions PredictedFamily_>12 PredictedFamily  \\\n",
       "0     b0010            0.962166              2.A.96          2.A.96   \n",
       "1     b2683            0.954708               2.A.7           3.D.1   \n",
       "\n",
       "   FamilyConfidence PredictedSubfamily  SubfamilyConfidence Class_substrate  \\\n",
       "0          0.998228           2.A.96.1             1.000000           Other   \n",
       "1          0.255886            3.D.1.4             0.662882        Electron   \n",
       "\n",
       "                                  Family_Description  \n",
       "0      The Acetate Uptake Transporter (AceTr) Family  \n",
       "1  The Drug/Metabolite Transporter (DMT) Superfamily  "
      ]
     },
     "execution_count": 1,
     "metadata": {},
     "output_type": "execute_result"
    }
   ],
   "source": [
    "from src.deeptransyt.main import main as run_deeptransyt\n",
    "\n",
    "run_deeptransyt(output_dir=\"results\", embeddings_file= \"data/genome_test_embeddings.npy\", labels_file= \"data/genome_test_accessions.npy\")"
   ]
  },
  {
   "cell_type": "code",
   "execution_count": null,
   "metadata": {},
   "outputs": [],
   "source": []
  }
 ],
 "metadata": {
  "kernelspec": {
   "display_name": "Python 3",
   "language": "python",
   "name": "python3"
  },
  "language_info": {
   "codemirror_mode": {
    "name": "ipython",
    "version": 3
   },
   "file_extension": ".py",
   "mimetype": "text/x-python",
   "name": "python",
   "nbconvert_exporter": "python",
   "pygments_lexer": "ipython3",
   "version": "undefined.undefined.undefined"
  }
 },
 "nbformat": 4,
 "nbformat_minor": 2
}
