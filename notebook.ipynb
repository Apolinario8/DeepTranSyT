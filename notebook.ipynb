{
 "cells": [
  {
   "cell_type": "code",
   "execution_count": 1,
   "metadata": {},
   "outputs": [
    {
     "ename": "ModuleNotFoundError",
     "evalue": "No module named 'deeptransyt'",
     "output_type": "error",
     "traceback": [
      "\u001b[1;31m---------------------------------------------------------------------------\u001b[0m",
      "\u001b[1;31mModuleNotFoundError\u001b[0m                       Traceback (most recent call last)",
      "Cell \u001b[1;32mIn[1], line 1\u001b[0m\n\u001b[1;32m----> 1\u001b[0m \u001b[38;5;28;01mfrom\u001b[39;00m \u001b[38;5;21;01mdeeptransyt\u001b[39;00m\u001b[38;5;21;01m.\u001b[39;00m\u001b[38;5;21;01msequence_processing\u001b[39;00m \u001b[38;5;28;01mimport\u001b[39;00m load_sequences\n",
      "\u001b[1;31mModuleNotFoundError\u001b[0m: No module named 'deeptransyt'"
     ]
    }
   ],
   "source": [
    "from deeptransyt.sequence_processing import load_sequences"
   ]
  },
  {
   "cell_type": "code",
   "execution_count": 2,
   "metadata": {},
   "outputs": [
    {
     "name": "stdout",
     "output_type": "stream",
     "text": [
      "Collecting deeptransyt\n",
      "  Downloading deeptransyt-0.0.2-py3-none-any.whl.metadata (578 bytes)\n",
      "Collecting Bio==1.7.1 (from deeptransyt)\n",
      "  Using cached bio-1.7.1-py3-none-any.whl.metadata (5.7 kB)\n",
      "Collecting biopython==1.79 (from deeptransyt)\n",
      "  Downloading biopython-1.79-cp310-cp310-win_amd64.whl.metadata (12 kB)\n",
      "Collecting fair-esm==2.0.0 (from deeptransyt)\n",
      "  Using cached fair_esm-2.0.0-py3-none-any.whl.metadata (37 kB)\n",
      "Collecting numpy==2.0.1 (from deeptransyt)\n",
      "  Downloading numpy-2.0.1-cp310-cp310-win_amd64.whl.metadata (60 kB)\n",
      "Collecting pandas==2.2.2 (from deeptransyt)\n",
      "  Downloading pandas-2.2.2-cp310-cp310-win_amd64.whl.metadata (19 kB)\n",
      "Collecting pytorch-lightning==2.2.5 (from deeptransyt)\n",
      "  Using cached pytorch_lightning-2.2.5-py3-none-any.whl.metadata (21 kB)\n",
      "Collecting tensorflow==2.17.0 (from deeptransyt)\n",
      "  Downloading tensorflow-2.17.0-cp310-cp310-win_amd64.whl.metadata (3.2 kB)\n",
      "Collecting torch==2.3.0 (from deeptransyt)\n",
      "  Downloading torch-2.3.0-cp310-cp310-win_amd64.whl.metadata (26 kB)\n",
      "INFO: pip is looking at multiple versions of bio to determine which version is compatible with other requirements. This could take a while.\n",
      "Collecting deeptransyt\n",
      "  Downloading deeptransyt-0.0.1-py3-none-any.whl.metadata (467 bytes)\n",
      "\n",
      "The conflict is caused by:\n",
      "    deeptransyt 0.0.1 depends on biopython==1.79\n",
      "    bio 1.7.1 depends on biopython>=1.80\n",
      "\n",
      "To fix this you could try to:\n",
      "1. loosen the range of package versions you've specified\n",
      "2. remove package versions to allow pip to attempt to solve the dependency conflict\n",
      "\n",
      "Note: you may need to restart the kernel to use updated packages.\n"
     ]
    },
    {
     "name": "stderr",
     "output_type": "stream",
     "text": [
      "ERROR: Cannot install deeptransyt and deeptransyt==0.0.1 because these package versions have conflicting dependencies.\n",
      "ERROR: ResolutionImpossible: for help visit https://pip.pypa.io/en/latest/topics/dependency-resolution/#dealing-with-dependency-conflicts\n"
     ]
    }
   ],
   "source": [
    "pip install deeptransyt"
   ]
  },
  {
   "cell_type": "code",
   "execution_count": null,
   "metadata": {},
   "outputs": [],
   "source": []
  },
  {
   "cell_type": "code",
   "execution_count": null,
   "metadata": {},
   "outputs": [],
   "source": []
  },
  {
   "cell_type": "code",
   "execution_count": null,
   "metadata": {},
   "outputs": [],
   "source": []
  }
 ],
 "metadata": {
  "kernelspec": {
   "display_name": "Python 3",
   "language": "python",
   "name": "python3"
  },
  "language_info": {
   "codemirror_mode": {
    "name": "ipython",
    "version": 3
   },
   "file_extension": ".py",
   "mimetype": "text/x-python",
   "name": "python",
   "nbconvert_exporter": "python",
   "pygments_lexer": "ipython3",
   "version": "3.10.14"
  }
 },
 "nbformat": 4,
 "nbformat_minor": 2
}
